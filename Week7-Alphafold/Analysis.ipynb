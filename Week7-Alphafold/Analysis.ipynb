{
 "cells": [
  {
   "cell_type": "code",
   "execution_count": 1,
   "id": "75e23083-9bc4-4500-b128-853ba3343bb1",
   "metadata": {},
   "outputs": [],
   "source": [
    "import mdtraj\n",
    "import numpy as np\n",
    "import os\n",
    "import matplotlib.pyplot as plt"
   ]
  },
  {
   "cell_type": "code",
   "execution_count": 2,
   "id": "1a24c35a-0934-462b-9df9-5a785cd4351b",
   "metadata": {},
   "outputs": [
    {
     "name": "stderr",
     "output_type": "stream",
     "text": [
      "/ext3/miniconda3/lib/python3.9/site-packages/mdtraj/formats/pdb/pdbfile.py:200: UserWarning: Unlikely unit cell vectors detected in PDB file likely resulting from a dummy CRYST1 record. Discarding unit cell vectors.\n",
      "  warnings.warn('Unlikely unit cell vectors detected in PDB file likely '\n"
     ]
    }
   ],
   "source": [
    "# Part 1\n",
    "xtal_data = mdtraj.load('./Inputs/NC13_RNA_ATP/7nio.pdb')\n",
    "alpha_0_data = mdtraj.load('./Inputs/NC13_RNA_ATP/fold_nc13_rna_atp/fold_nc13_rna_1atp_model_0.pdb')"
   ]
  },
  {
   "cell_type": "code",
   "execution_count": 3,
   "id": "1ce3e0ee-111a-4424-ae0d-ee9be47daf24",
   "metadata": {},
   "outputs": [],
   "source": [
    "align_data = alpha_0_data.superpose(xtal_data, atom_indices=alpha_0_data.topology.select('name CA'))\n",
    "# align_data.save_pdb('./Inputs/NC13_RNA_ATP/aligned_model_0.pdb')"
   ]
  },
  {
   "cell_type": "code",
   "execution_count": 8,
   "id": "151444ee-fa5c-4f36-911f-b77f596f7413",
   "metadata": {},
   "outputs": [],
   "source": [
    "topology = alpha_0_data.topology\n",
    "rna_phos_atoms = topology.select('element P and resname U')\n",
    "uracil_ox_atoms = topology.select('(resname U and name O2) or (resname U and name O4)')\n",
    "protein_atoms = topology.select('protein')\n",
    "cutoff = 0.5 # nm"
   ]
  },
  {
   "cell_type": "code",
   "execution_count": 9,
   "id": "d7303077-f42c-43f4-9399-b2feccc280da",
   "metadata": {},
   "outputs": [],
   "source": [
    "rna_phos_nearby = mdtraj.compute_neighbors(alpha_0_data, cutoff, rna_phos_atoms, haystack_indices=protein_atoms)\n",
    "\n",
    "residues = set()\n",
    "for atom_idx in rna_phos_nearby[0]:\n",
    "    residue = topology.atom(atom_idx).residue\n",
    "    residues.add(residue.name)\n",
    "# print(list(sorted(residues)))\n",
    "\n",
    "# primarily polar (and positively charged) residues nearby which is expected as\n",
    "# the phosphate backbone is negatively charged\n",
    "# suprisingly there is a nearby ASP, which is negatively charged and \n",
    "# hydrophobic valine and tyrosine"
   ]
  },
  {
   "cell_type": "code",
   "execution_count": 10,
   "id": "766fe4a0-4650-4e10-9757-733ff34061c1",
   "metadata": {},
   "outputs": [],
   "source": [
    "uracil_ox_nearby = mdtraj.compute_neighbors(alpha_0_data, cutoff, uracil_ox_atoms, haystack_indices=protein_atoms)\n",
    "\n",
    "residues = set()\n",
    "for atom_idx in uracil_ox_nearby[0]:\n",
    "    residue = topology.atom(atom_idx).residue\n",
    "    residues.add(residue.name)\n",
    "# print(list(sorted(residues)))\n",
    "\n",
    "# we would expect amino acids that readily form h-bonds and are polar as\n",
    "# these would have the strongest interactions and for the most part what we see\n",
    "# there is however also hydrophobic side chains like leucine, methionine, and valine"
   ]
  },
  {
   "cell_type": "code",
   "execution_count": 11,
   "id": "1a181001-0840-487f-ae57-01c66e3b77ec",
   "metadata": {},
   "outputs": [],
   "source": [
    "# Part 2\n",
    "alpha2_data = mdtraj.load('./Inputs/Actin_Profilin/actin_profilin_af2_colab/actin_profilin_923b1/actin_profilin_923b1_unrelaxed_rank_001_alphafold2_multimer_v3_model_1_seed_000.pdb')\n",
    "alpha3_data = mdtraj.load('./Inputs/Actin_Profilin/actin_profilin_adp_af3/fold_actin_profilin_adp_model_0.pdb')"
   ]
  },
  {
   "cell_type": "code",
   "execution_count": 12,
   "id": "d232fe63-a756-4eea-a8cb-2f5336606395",
   "metadata": {},
   "outputs": [],
   "source": [
    "# get chains and adjust\n",
    "alpha2_chainA = alpha2_data.atom_slice(alpha2_data.topology.select('chainid 0'))  \n",
    "alpha3_chainA = alpha3_data.atom_slice(alpha3_data.topology.select('chainid 0')) \n",
    "alpha3_chainA = alpha3_chainA.atom_slice([i for i in range(alpha3_chainA.n_atoms - 1)])\n",
    "\n",
    "# need to fix mappings\n",
    "atom_map = {(atom.name, atom.residue.index): atom.index for atom in alpha2_chainA.topology.atoms}\n",
    "reordered_coordinates = np.empty((alpha2_chainA.n_frames, 2916, 3), dtype=np.float32)\n",
    "i = 0\n",
    "for atom in alpha3_chainA.topology.atoms:\n",
    "    key = (atom.name, atom.residue.index)\n",
    "    if i != atom.index:\n",
    "        print(i)\n",
    "    i += 1\n",
    "    if key in atom_map:\n",
    "        alpha2_index = atom_map[key]\n",
    "        reordered_coordinates[:, atom.index, :] = alpha2_chainA.xyz[:, alpha2_index, :]\n",
    "\n",
    "reorder_alpha2_chainA = mdtraj.Trajectory(xyz=reordered_coordinates, topology=alpha3_chainA.topology)\n",
    "\n",
    "# alignment \n",
    "align_alpha3_chainA = alpha3_chainA.superpose(reorder_alpha2_chainA, atom_indices=reorder_alpha2_chainA.topology.select('all'))                                        "
   ]
  },
  {
   "cell_type": "code",
   "execution_count": 13,
   "id": "81de84e8-4cf1-4fa2-b440-7ba46800f070",
   "metadata": {},
   "outputs": [],
   "source": [
    "# compute distances by atom\n",
    "n_atoms = align_alpha3_chainA.n_atoms\n",
    "combined_chainA = align_alpha3_chainA.stack(reorder_alpha2_chainA)\n",
    "pairs = [[i, i + n_atoms] for i in range(n_atoms)]\n",
    "distances = mdtraj.compute_distances(combined_chainA, atom_pairs=pairs, periodic=True)[0]"
   ]
  },
  {
   "cell_type": "code",
   "execution_count": 14,
   "id": "cea6a994-8ed3-4485-b938-f5e0a1644cc4",
   "metadata": {},
   "outputs": [],
   "source": [
    "# get per residue\n",
    "n_residues = align_alpha3_chainA.n_residues\n",
    "residue_distances = [0] * n_residues \n",
    "for i in range(n_atoms):\n",
    "    # Get residues for the two atoms\n",
    "    residue_id = align_alpha3_chainA.topology.atom(i).residue.index\n",
    "    \n",
    "    # Add the computed distance (summed over all frames)\n",
    "    residue_distances[residue_id] += distances[i]"
   ]
  },
  {
   "cell_type": "code",
   "execution_count": 15,
   "id": "681fd872-02da-4f12-84d6-f6491f28f0e1",
   "metadata": {},
   "outputs": [
    {
     "data": {
      "image/png": "[encoded data removed]",
      "text/plain": [
       "<Figure size 640x480 with 1 Axes>"
      ]
     },
     "metadata": {},
     "output_type": "display_data"
    }
   ],
   "source": [
    "plt.bar([i for i in range(n_residues)], residue_distances)\n",
    "plt.xlabel('Residue')\n",
    "plt.ylabel('Total Atom Distance (nm)')\n",
    "plt.title('Distance between Atoms per Residue for AlphaFold2 and AlphaFold3')\n",
    "plt.savefig('./Figures/residue_dist_alpha2_alpha3.png')\n",
    "plt.show()\n",
    "# The floppier regions (e.g. loops) have greater differences between them"
   ]
  },
  {
   "cell_type": "code",
   "execution_count": 17,
   "id": "2802df53-9e91-4f79-a8a9-17d4345dedb7",
   "metadata": {},
   "outputs": [],
   "source": [
    "import glob \n",
    "file_path = './Inputs/1V1D/1v1d_5c7bb/1v1d_5c7bb_unrelaxed_rank_0'\n",
    "models = ['1', '2', '3', '4', '5']\n",
    "alpha_datas = []\n",
    "matches = []\n",
    "for i in range(1, 41):\n",
    "    if i < 10:\n",
    "        file_path_rank = file_path + '0' + str(i) + '_alphafold2_ptm_model_'\n",
    "    else:\n",
    "        file_path_rank = file_path + str(i) + '_alphafold2_ptm_model_'\n",
    "    for model in models:\n",
    "        file_path_search = file_path_rank + model + '*'\n",
    "        matched_files = glob.glob(file_path_search)\n",
    "        if len(matched_files) != 0:\n",
    "            matches.append(i)\n",
    "            alpha_data = mdtraj.load(matched_files[0])  \n",
    "            alpha_datas.append(alpha_data)\n",
    "            break"
   ]
  },
  {
   "cell_type": "code",
   "execution_count": 18,
   "id": "69279c03-9b28-4e9e-91f9-c3dd700c88ab",
   "metadata": {},
   "outputs": [],
   "source": [
    "n_atoms = alpha_datas[0].n_atoms\n",
    "pairs = [[i, i + n_atoms] for i in range(n_atoms)]\n",
    "distances = []\n",
    "for i in range(0, 39):\n",
    "    aligned_i = alpha_datas[i + 1].superpose(alpha_datas[0], atom_indices= alpha_datas[0].topology.select('name CA'))\n",
    "    combined_0_i = aligned_i.stack(alpha_datas[0])\n",
    "    distances.append(mdtraj.compute_distances(combined_0_i, atom_pairs=pairs, periodic=True)[0])"
   ]
  },
  {
   "cell_type": "code",
   "execution_count": 19,
   "id": "561204bb-e2a7-4425-898f-42c2f27ded92",
   "metadata": {},
   "outputs": [],
   "source": [
    "# get per residue\n",
    "n_residues = alpha_datas[0].n_residues\n",
    "residue_distances = [[0 for i in range(n_residues)] for j in range(len(distances))]\n",
    "slices = [[] for i in range(n_residues)]\n",
    "for j in range(n_atoms):\n",
    "    # Get residues for the two atoms\n",
    "    residue_id = alpha_datas[0].topology.atom(j).residue.index\n",
    "    slices[residue_id].append(j)\n",
    "for i in range(len(distances)):\n",
    "        # Add the computed distance (summed over all frames)\n",
    "    for k in range(n_residues):\n",
    "        residue_distances[i][k] += sum(distances[i][slices[k]])"
   ]
  },
  {
   "cell_type": "code",
   "execution_count": 20,
   "id": "974dd3d6-5673-4395-9214-4d6c0d56d5af",
   "metadata": {},
   "outputs": [
    {
     "data": {
      "image/png": "[encoded data removed]",
      "text/plain": [
       "<Figure size 640x480 with 1 Axes>"
      ]
     },
     "metadata": {},
     "output_type": "display_data"
    }
   ],
   "source": [
    "rmsd_residue_distances = np.std(residue_distances, axis = 0)\n",
    "plt.bar([i for i in range(n_residues)], rmsd_residue_distances)\n",
    "plt.xlabel('Residue')\n",
    "plt.ylabel('RMSD (nm)')\n",
    "plt.title('RMSD per Residue for AlphaFold2 Predictions')\n",
    "plt.savefig('./Figures/residue_dist_1v1d.png')\n",
    "plt.show()\n",
    "# The floppier regions (e.g. loops) have greater differences between them"
   ]
  },
  {
   "cell_type": "code",
   "execution_count": null,
   "id": "7d01fbc2-3d28-41e5-a182-9caa8512b2e5",
   "metadata": {},
   "outputs": [],
   "source": []
  }
 ],
 "metadata": {
  "kernelspec": {
   "display_name": "lab_env_2024",
   "language": "python",
   "name": "lab_env_2024"
  },
  "language_info": {
   "codemirror_mode": {
    "name": "ipython",
    "version": 3
   },
   "file_extension": ".py",
   "mimetype": "text/x-python",
   "name": "python",
   "nbconvert_exporter": "python",
   "pygments_lexer": "ipython3",
   "version": "3.9.12"
  }
 },
 "nbformat": 4,
 "nbformat_minor": 5
}
