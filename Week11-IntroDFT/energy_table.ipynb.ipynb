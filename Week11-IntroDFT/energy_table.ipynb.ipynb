{
 "cells": [
  {
   "cell_type": "code",
   "execution_count": 1,
   "id": "7c461d07-7960-43b8-b50d-2f4cfeec935d",
   "metadata": {},
   "outputs": [],
   "source": [
    "import pandas as pd\n",
    "from rdkit.Chem import PandasTools\n",
    "from psikit import Psikit"
   ]
  },
  {
   "cell_type": "code",
   "execution_count": 2,
   "id": "692eaa3b-0250-4b04-9e02-58d0bced4f32",
   "metadata": {},
   "outputs": [
    {
     "name": "stdout",
     "output_type": "stream",
     "text": [
      "           smiles                                             ROMol  n_Atoms\n",
      "0             C=C  <rdkit.Chem.rdchem.Mol object at 0x1481268b07b0>        2\n",
      "1             C=O  <rdkit.Chem.rdchem.Mol object at 0x1481268b0890>        2\n",
      "2             C#N  <rdkit.Chem.rdchem.Mol object at 0x1481268b09e0>        2\n",
      "3             CCO  <rdkit.Chem.rdchem.Mol object at 0x1481268b0b30>        3\n",
      "4        CCC(=O)O  <rdkit.Chem.rdchem.Mol object at 0x1481268b0ba0>        5\n",
      "5          CN=C=O  <rdkit.Chem.rdchem.Mol object at 0x1481268b0c10>        4\n",
      "6      C1=CCC=CC1  <rdkit.Chem.rdchem.Mol object at 0x1481268b0c80>        6\n",
      "7     C1=CC=CC=C1  <rdkit.Chem.rdchem.Mol object at 0x1481268b0cf0>        6\n",
      "8  C1=C(C)C=CC=C1  <rdkit.Chem.rdchem.Mol object at 0x1481268b0d60>        7\n",
      "9  C1CCC2CCCCC2C1  <rdkit.Chem.rdchem.Mol object at 0x1481268b0dd0>       10\n"
     ]
    }
   ],
   "source": [
    "file_name = './smiles.csv'\n",
    "\n",
    "data = pd.read_csv(file_name)\n",
    "PandasTools.AddMoleculeColumnToFrame(data, smilesCol='smiles')\n",
    "data[\"n_Atoms\"] = data['ROMol'].map(lambda x: x.GetNumAtoms())\n",
    "print(data)"
   ]
  },
  {
   "cell_type": "code",
   "execution_count": 3,
   "id": "380da3a7-d8ab-4b0e-a14f-8fa8a30e03d7",
   "metadata": {},
   "outputs": [
    {
     "name": "stdout",
     "output_type": "stream",
     "text": [
      "\n",
      "  Memory set to  27.940 GiB by Python driver.\n",
      "  Threads set to 1 by Python driver.\n"
     ]
    }
   ],
   "source": [
    "pk = Psikit(debug=True, threads=1, memory=30)\n",
    "def calc_energy(smile):\n",
    "    pk.read_from_smiles(smile)\n",
    "\n",
    "    print(\"optimizing \" + smile)\n",
    "    %time pk.optimize()\n",
    "    \n",
    "    return pk.energy()"
   ]
  },
  {
   "cell_type": "code",
   "execution_count": 4,
   "id": "eaa43e4f-5790-4f05-9625-c5b6bc2641c1",
   "metadata": {},
   "outputs": [
    {
     "name": "stdout",
     "output_type": "stream",
     "text": [
      "optimizing C=C\n",
      "Optimizer: Optimization complete!\n",
      "CPU times: user 1.64 s, sys: 98.1 ms, total: 1.73 s\n",
      "Wall time: 3.05 s\n"
     ]
    },
    {
     "data": {
      "text/plain": [
       "-78.03876941202554"
      ]
     },
     "execution_count": 4,
     "metadata": {},
     "output_type": "execute_result"
    }
   ],
   "source": [
    "calc_energy(data['smiles'][0])"
   ]
  },
  {
   "cell_type": "code",
   "execution_count": 5,
   "id": "b91c1f6c-d8e8-4907-9048-7d7198fbe2e7",
   "metadata": {},
   "outputs": [
    {
     "name": "stdout",
     "output_type": "stream",
     "text": [
      "optimizing C=C\n",
      "Optimizer: Optimization complete!\n",
      "CPU times: user 1.54 s, sys: 65.7 ms, total: 1.6 s\n",
      "Wall time: 1.65 s\n",
      "optimizing C=O\n",
      "Optimizer: Optimization complete!\n",
      "CPU times: user 1.36 s, sys: 46.2 ms, total: 1.41 s\n",
      "Wall time: 1.43 s\n",
      "optimizing C#N\n",
      "Optimizer: Optimization complete!\n",
      "CPU times: user 1.12 s, sys: 40.4 ms, total: 1.16 s\n",
      "Wall time: 1.17 s\n",
      "optimizing CCO\n",
      "Optimizer: Optimization complete!\n",
      "CPU times: user 4.57 s, sys: 136 ms, total: 4.71 s\n",
      "Wall time: 4.74 s\n",
      "optimizing CCC(=O)O\n",
      "Optimizer: Optimization complete!\n",
      "CPU times: user 19.1 s, sys: 1.15 s, total: 20.2 s\n",
      "Wall time: 20.4 s\n",
      "optimizing CN=C=O\n",
      "Optimizer: Optimization complete!\n",
      "CPU times: user 6.84 s, sys: 156 ms, total: 7 s\n",
      "Wall time: 7.07 s\n",
      "optimizing C1=CCC=CC1\n",
      "Optimizer: Optimization complete!\n",
      "CPU times: user 20.8 s, sys: 1.4 s, total: 22.2 s\n",
      "Wall time: 22.4 s\n",
      "optimizing C1=CC=CC=C1\n",
      "Optimizer: Optimization complete!\n",
      "CPU times: user 6.21 s, sys: 447 ms, total: 6.66 s\n",
      "Wall time: 6.7 s\n",
      "optimizing C1=C(C)C=CC=C1\n",
      "Optimizer: Optimization complete!\n",
      "CPU times: user 14.6 s, sys: 991 ms, total: 15.6 s\n",
      "Wall time: 15.7 s\n",
      "optimizing C1CCC2CCCCC2C1\n",
      "Optimizer: Optimization complete!\n",
      "CPU times: user 58.4 s, sys: 5.79 s, total: 1min 4s\n",
      "Wall time: 1min 4s\n",
      "           smiles                                             ROMol  n_Atoms  \\\n",
      "0             C=C  <rdkit.Chem.rdchem.Mol object at 0x1481268b07b0>        2   \n",
      "1             C=O  <rdkit.Chem.rdchem.Mol object at 0x1481268b0890>        2   \n",
      "2             C#N  <rdkit.Chem.rdchem.Mol object at 0x1481268b09e0>        2   \n",
      "3             CCO  <rdkit.Chem.rdchem.Mol object at 0x1481268b0b30>        3   \n",
      "4        CCC(=O)O  <rdkit.Chem.rdchem.Mol object at 0x1481268b0ba0>        5   \n",
      "5          CN=C=O  <rdkit.Chem.rdchem.Mol object at 0x1481268b0c10>        4   \n",
      "6      C1=CCC=CC1  <rdkit.Chem.rdchem.Mol object at 0x1481268b0c80>        6   \n",
      "7     C1=CC=CC=C1  <rdkit.Chem.rdchem.Mol object at 0x1481268b0cf0>        6   \n",
      "8  C1=C(C)C=CC=C1  <rdkit.Chem.rdchem.Mol object at 0x1481268b0d60>        7   \n",
      "9  C1CCC2CCCCC2C1  <rdkit.Chem.rdchem.Mol object at 0x1481268b0dd0>       10   \n",
      "\n",
      "   Optimized_Energy  \n",
      "0        -78.038769  \n",
      "1       -113.869536  \n",
      "2        -92.876942  \n",
      "3       -154.089919  \n",
      "4       -266.858985  \n",
      "5       -206.795542  \n",
      "6       -231.846762  \n",
      "7       -230.713524  \n",
      "8       -269.753552  \n",
      "9       -389.204842  \n"
     ]
    }
   ],
   "source": [
    "energies = []\n",
    "for smile in data['smiles']:\n",
    "    energies.append(calc_energy(smile))\n",
    "\n",
    "data['Optimized_Energy'] = energies\n",
    "print(data)"
   ]
  },
  {
   "cell_type": "code",
   "execution_count": null,
   "id": "bddfd657-4861-407b-b0ba-5bcb2767cded",
   "metadata": {},
   "outputs": [],
   "source": []
  }
 ],
 "metadata": {
  "kernelspec": {
   "display_name": "lab_env_2024",
   "language": "python",
   "name": "lab_env_2024"
  },
  "language_info": {
   "codemirror_mode": {
    "name": "ipython",
    "version": 3
   },
   "file_extension": ".py",
   "mimetype": "text/x-python",
   "name": "python",
   "nbconvert_exporter": "python",
   "pygments_lexer": "ipython3",
   "version": "3.9.12"
  }
 },
 "nbformat": 4,
 "nbformat_minor": 5
}
